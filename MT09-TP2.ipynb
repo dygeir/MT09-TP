{
 "cells": [
  {
   "cell_type": "markdown",
   "id": "f6fd6083-f549-46d6-b1ce-484ab7dbd226",
   "metadata": {},
   "source": [
    "## MT09 - TP2 - Automne 2024\n",
    "### Elimination de Gauss et factorisation LU\n",
    "\n",
    "1. Ecrire une fonction python \n",
    "```\n",
    "x = solsup(U,b)\n",
    "```\n",
    "qui, étant donné $U$ une matrice triangulaire supérieure de taille $n\\times n$ et $b$ vecteur colonne de taille $n$, calcule $x$ solution de $Ux=b$.\n",
    "\n",
    "Application : utiliser la fonction `solsup()` pour déterminer la solution de \n",
    "\n",
    "$$\n",
    "\\begin{pmatrix} 1 & 2 & 3 \\\\ 0 & 4 & 8 \\\\ 0 & 0 & 5 \\end{pmatrix} x = \\begin{pmatrix} 6 \\\\ 16 \\\\ 15 \\end{pmatrix}.\n",
    "$$"
   ]
  },
  {
   "cell_type": "code",
   "id": "b770ac94-6d48-4363-a9d6-8648dd15ca61",
   "metadata": {
    "ExecuteTime": {
     "end_time": "2025-09-21T21:29:54.815881Z",
     "start_time": "2025-09-21T21:29:54.812322Z"
    }
   },
   "source": [
    "import numpy as np\n",
    "import numpy.linalg as la\n",
    "# import matplotlib.pyplot as plt\n",
    "\n",
    "def solsup(U, b):\n",
    "    \"\"\" Résolution du système triangulaire supérieur Ux=b \"\"\"\n",
    "    n = np.size(b)\n",
    "    x = np.zeros(n)\n",
    "    # VOIR POLY\n",
    "    # A COMPLETER ...\n",
    "    a=b*1\n",
    "    x[n-1]=b[n-1]/U[n-1,n-1]\n",
    "    for i in range(n-2,-1,-1):\n",
    "        for j in range(i+1,n):\n",
    "            a[i]-=x[j]*U[i,j]\n",
    "        x[i]=a[i]/U[i,i]\n",
    "\n",
    "    return x\n",
    "    #fini\n",
    "U = np.array([[1, 2, 3], [0, 4, 8], [0, 0, 5]], dtype=np.float64);\n",
    "b = np.array([6, 16, 15], dtype=np.float64);\n",
    "x = solsup(U, b);\n",
    "print('x = ', x)\n",
    "# Verification\n",
    "print('Ux = ', U@x, '\\nb = ', b)\n",
    "print('Ux-b = ', U@x - b)"
   ],
   "outputs": [
    {
     "name": "stdout",
     "output_type": "stream",
     "text": [
      "x =  [ 1. -2.  3.]\n",
      "Ux =  [ 6. 16. 15.] \n",
      "b =  [ 6. 16. 15.]\n",
      "Ux-b =  [0. 0. 0.]\n"
     ]
    }
   ],
   "execution_count": 60
  },
  {
   "cell_type": "markdown",
   "id": "e6031d8a-afbd-4f15-9d29-dd4f8de2a167",
   "metadata": {},
   "source": [
    "2. Ecrire une fonction python\n",
    "```\n",
    "U, e = trisup(A,b)\n",
    "```\n",
    "qui, étant donné $A$ matrice carrée de taille $n\\times n$ et $b$ vecteur colonne de taille $n$, déterminer par la méthode d'élimination de Gauss, quand c'est possible, la matrice $U$ triangulaire supérieure et le vecteur colonne $e$ tel que $Ax=b$\n",
    "$\\Leftrightarrow$ $Ux = e$.\n",
    "\n",
    "On rappelle l'algorithme d'élimination de Gauss:"
   ]
  },
  {
   "cell_type": "markdown",
   "id": "04b59759-9488-4db8-a379-c4d6dee06077",
   "metadata": {},
   "source": [
    "### Algorithme de Gauss"
   ]
  },
  {
   "cell_type": "code",
   "id": "d8d803a1-5b37-4915-a875-60ba4a438015",
   "metadata": {
    "ExecuteTime": {
     "end_time": "2025-09-21T21:29:54.846019Z",
     "start_time": "2025-09-21T21:29:54.832100Z"
    }
   },
   "source": [
    "def trisup(A, b):\n",
    "# Méthode d'elimination de Gauss\n",
    "    Am = np.copy(A)\n",
    "    bm = np.copy(b) \n",
    "    n = np.size(b)\n",
    "    for k in np.arange(0,n):\n",
    "        if np.abs(Am[k,k]) < 1e-15:\n",
    "            raise SystemExit(\"ERREUR : Pivot nul, k=\", k, '\\n')\n",
    "        # VOIR COURS\n",
    "        # A COMPLETER\n",
    "        for i in range(k+1,n):\n",
    "            bm[i]-=Am[i,k]/Am[k,k]*bm[k]\n",
    "            Am[i,]-=Am[i,k]/Am[k,k]*Am[k,]\n",
    "        #fini\n",
    "    if np.abs(Am[n-1,n-1]) < 1e-15:\n",
    "        raise SystemExit(\"ERREUR : Pivot A_nn nul\\n\");\n",
    "    return Am, bm"
   ],
   "outputs": [],
   "execution_count": 61
  },
  {
   "cell_type": "markdown",
   "id": "5309d9f0-d2ca-4d76-962a-69105d902acd",
   "metadata": {},
   "source": [
    "Application : utiliser la fonction `trisup()` pour déterminer un système d'équations équivalent au système\n",
    "\n",
    "$$\n",
    "\\begin{pmatrix} 3 & 1 & 2 \\\\ 3 & 2 & 6 \\\\ 6 & 1 & -1 \\end{pmatrix} x = \\begin{pmatrix} 2 \\\\ 1 \\\\ 4 \\end{pmatrix}.\n",
    "$$"
   ]
  },
  {
   "cell_type": "code",
   "id": "768fa758-c431-4e69-80e5-231c7297edf9",
   "metadata": {
    "ExecuteTime": {
     "end_time": "2025-09-21T21:29:54.877807Z",
     "start_time": "2025-09-21T21:29:54.868924Z"
    }
   },
   "source": [
    "A=np.array([[3,1,2],[3,2,6],[6,1,-1]],dtype=np.float64);\n",
    "b=np.array([2,1,4])\n",
    "U,e=trisup(A, b)\n",
    "print('U = ', U)\n",
    "print('e = ', e)\n"
   ],
   "outputs": [
    {
     "name": "stdout",
     "output_type": "stream",
     "text": [
      "U =  [[ 3.  1.  2.]\n",
      " [ 0.  1.  4.]\n",
      " [ 0.  0. -1.]]\n",
      "e =  [ 2 -1 -1]\n"
     ]
    }
   ],
   "execution_count": 62
  },
  {
   "cell_type": "markdown",
   "id": "08e6b6f0-ce46-447e-8d73-8506f9651ec7",
   "metadata": {},
   "source": [
    "3. Ecrire une fonction \n",
    "```\n",
    "x = resolG(A, b)\n",
    "```\n",
    "qui, étant donné $A$ matrice carrée de taille $n\\times n$ et $b$ vecteur colonne de taille $n$, calcule et retourne \n",
    "(quand c'est possible) la solution de $Ax=b$ en utilisant la méthode d'élimination de Gauss. Cette fonction doit\n",
    "utiliser les 2 fonctions précédentes."
   ]
  },
  {
   "cell_type": "code",
   "id": "148ad5ba-57bd-40b2-8a42-d213f5aca3cf",
   "metadata": {
    "ExecuteTime": {
     "end_time": "2025-09-21T21:29:54.931921Z",
     "start_time": "2025-09-21T21:29:54.929874Z"
    }
   },
   "source": [
    "def resolG(A,b):\n",
    "    # A COMPLETER\n",
    "    U,e=trisup(A,b)\n",
    "    x=solsup(U,e)\n",
    "    #fini\n",
    "    return x;"
   ],
   "outputs": [],
   "execution_count": 63
  },
  {
   "cell_type": "markdown",
   "id": "4aec09e1-8df2-4b78-80fd-526dbe8d4f83",
   "metadata": {},
   "source": [
    "Application : utiliser la fonction `resolG()`pour déterminer la solution de\n",
    "\n",
    "$$\n",
    "\\begin{pmatrix} 1 & 2 & 3 \\\\ 5 & 2 & 1 \\\\ 3 & -1 & 1 \\end{pmatrix} x = \\begin{pmatrix} 5 \\\\ 5 \\\\ 6 \\end{pmatrix},\n",
    "\\quad \\text{puis}\\quad\n",
    "\\begin{pmatrix} 2 & 1 & 5 \\\\ 1 & 2 & 4 \\\\ 3 & 4 & 10 \\end{pmatrix} x = \\begin{pmatrix} 5 \\\\ 5 \\\\ 6 \\end{pmatrix}.\n",
    "$$"
   ]
  },
  {
   "cell_type": "code",
   "id": "cb3d18d2-1c4a-422d-b9cd-2cf90df62e2b",
   "metadata": {
    "ExecuteTime": {
     "end_time": "2025-09-21T21:29:54.962008Z",
     "start_time": "2025-09-21T21:29:54.958400Z"
    }
   },
   "source": [
    "x1=resolG(np.array([[1,2,3],[5,2,1],[3,-1,1]],dtype=np.float64),np.array([5,5,6]));\n",
    "print('x1 = ', x1)"
   ],
   "outputs": [
    {
     "name": "stdout",
     "output_type": "stream",
     "text": [
      "x1 =  [ 0.         -0.75        1.88235294]\n"
     ]
    }
   ],
   "execution_count": 64
  },
  {
   "cell_type": "code",
   "id": "940b8d0b-af75-4178-9d0b-bb7c6cda392e",
   "metadata": {
    "ExecuteTime": {
     "end_time": "2025-09-21T21:29:54.983811Z",
     "start_time": "2025-09-21T21:29:54.980963Z"
    }
   },
   "source": [
    "# x2=resolG(np.array([[2,1,5],[1,2,4],[3,4,10]],dtype=np.float64),np.array([5,5,6]));\n",
    "# print('x2 = ', x2)\n",
    "# pas possible de GS"
   ],
   "outputs": [],
   "execution_count": 65
  },
  {
   "cell_type": "markdown",
   "id": "c321205a-b078-42b3-92c7-106de867daae",
   "metadata": {},
   "source": [
    "4. Ecrire une fonction\n",
    "```\n",
    "L, U = LU(A)\n",
    "```\n",
    "qui, étant donné $A$ de taille $n\\times n$, détermine une matrice triangulaire supérieure $U$ et une matrice \n",
    "triangulaire inférieure $L$ vérifiant $A=LU$.\n",
    "\n",
    "NB : on poura en particulier reprendre la fonction `trisup()` que l''on modifiera pour obtenir la fonction `LU()`."
   ]
  },
  {
   "cell_type": "code",
   "id": "2ddce40e-bffa-4e96-842d-5ece0a835e37",
   "metadata": {
    "ExecuteTime": {
     "end_time": "2025-09-21T21:29:55.025401Z",
     "start_time": "2025-09-21T21:29:55.020275Z"
    }
   },
   "source": [
    "def LU(A):\n",
    "    U = np.copy(A)\n",
    "    n = np.size(A[0,:])\n",
    "    L = np.eye(n, dtype=np.float64)\n",
    "    for k in np.arange(0,n):\n",
    "        if np.abs(U[k,k])<1e-15:\n",
    "            raise SystemExit(\"Pivot nul\\n\")\n",
    "        # A COMPLETER\n",
    "\n",
    "        for i in range(k+1,n):\n",
    "            L[i,k]=U[i,k]/U[k,k]\n",
    "            U[i,]-=U[i,k]/U[k,k]*U[k,]\n",
    "\n",
    "        #fini\n",
    "    if np.abs(U[n-1,n-1])<1e-15:\n",
    "        raise SystemExit(\"Pivot A_nn nul\\n\")\n",
    "    return L, U"
   ],
   "outputs": [],
   "execution_count": 66
  },
  {
   "cell_type": "markdown",
   "id": "9f57d63c-7cd8-4492-9b3c-7dd3d0c279ff",
   "metadata": {},
   "source": [
    "Application : utiliser la fonction `LU()` pour déterminer $L$ et $U$ dans le cas où\n",
    "\n",
    "$$\n",
    "A = \\begin{pmatrix} 3 & 1 & 2 \\\\ 3 & 2 & 6 \\\\ 6 & 1 & -1 \\end{pmatrix}.\n",
    "$$"
   ]
  },
  {
   "cell_type": "code",
   "id": "43887836-0299-4450-a74f-b771fd6f84a8",
   "metadata": {
    "ExecuteTime": {
     "end_time": "2025-09-21T21:29:55.038222Z",
     "start_time": "2025-09-21T21:29:55.035231Z"
    }
   },
   "source": [
    "A = np.array([[3, 1, 2], [3, 2, 6], [6, 1, -1]], dtype=np.float64);\n",
    "L, U = LU(A);\n",
    "print(L, U, A-L@U)"
   ],
   "outputs": [
    {
     "name": "stdout",
     "output_type": "stream",
     "text": [
      "[[ 1.  0.  0.]\n",
      " [ 1.  1.  0.]\n",
      " [ 2. -1.  1.]] [[ 3.  1.  2.]\n",
      " [ 0.  1.  4.]\n",
      " [ 0.  0. -1.]] [[0. 0. 0.]\n",
      " [0. 0. 0.]\n",
      " [0. 0. 0.]]\n"
     ]
    }
   ],
   "execution_count": 67
  },
  {
   "cell_type": "markdown",
   "id": "907d99c0-a738-4a39-a3e5-c1f4d5d7f750",
   "metadata": {},
   "source": [
    "5. Ecrire une fonction \n",
    "```\n",
    "x = solinf(L,b)\n",
    "```\n",
    "qui, étant donné $L$ matrice triangulaire inférieure de taille $n\\times n$ et $b$ vecteur colonne de taille $n$, calcule $x$ solution de $Lx=b$"
   ]
  },
  {
   "cell_type": "code",
   "id": "f87ff95f-935c-4bce-b206-83801e5be620",
   "metadata": {
    "ExecuteTime": {
     "end_time": "2025-09-21T21:29:55.079927Z",
     "start_time": "2025-09-21T21:29:55.076642Z"
    }
   },
   "source": [
    "def solinf(L, b):\n",
    "    # A COMPLETER\n",
    "    n = np.size(b)\n",
    "    x = np.zeros(n)\n",
    "    a=b*1\n",
    "    x[0]=b[0]/L[0,0]\n",
    "    for i in range(1,n):\n",
    "        for j in range(0,i):\n",
    "            a[i]-=x[j]*L[i,j]\n",
    "        x[i]=a[i]/L[i,i]\n",
    "    #fini\n",
    "    return x"
   ],
   "outputs": [],
   "execution_count": 68
  },
  {
   "cell_type": "markdown",
   "id": "72cdec62-7be3-4613-829d-123e180e7317",
   "metadata": {},
   "source": [
    "Application : utiliser la fonction `solinf()` pour déterminer la solution de\n",
    "\n",
    "$$\n",
    "\\begin{pmatrix} 1 & 0 & 0 \\\\ 2 & 3 & 0 \\\\ 1 & 4 & -1 \\end{pmatrix} x = \\begin{pmatrix} 1 \\\\ 8 \\\\ 10 \\end{pmatrix}.\n",
    "$$"
   ]
  },
  {
   "metadata": {
    "ExecuteTime": {
     "end_time": "2025-09-21T21:29:55.104073Z",
     "start_time": "2025-09-21T21:29:55.101717Z"
    }
   },
   "cell_type": "code",
   "source": [
    "x=solinf(np.array([[1,0,0],[2,3,0],[1,4,-1]],dtype=np.float64),np.array([1,8,10]))\n",
    "print('x = ', x)"
   ],
   "id": "694129ed-a678-4020-9a99-283387bc01b3",
   "outputs": [
    {
     "name": "stdout",
     "output_type": "stream",
     "text": [
      "x =  [ 1.  2. -1.]\n"
     ]
    }
   ],
   "execution_count": 69
  },
  {
   "cell_type": "markdown",
   "id": "19ed15df-2741-4a02-88ea-2536d99cbb6a",
   "metadata": {},
   "source": [
    "6. Ecrire une fonction \n",
    "```\n",
    "x = resolLU(A,b)\n",
    "```\n",
    "qui calcule, quand c'est possible, la solution de $Ax=b$ en utilisant la factorisation $A=LU$."
   ]
  },
  {
   "cell_type": "code",
   "id": "748cf5f5-7b30-4403-8df0-0683326b8d56",
   "metadata": {
    "ExecuteTime": {
     "end_time": "2025-09-21T21:29:55.140467Z",
     "start_time": "2025-09-21T21:29:55.138274Z"
    }
   },
   "source": [
    "def resolLU(A, b):\n",
    "    # A COMPLETER\n",
    "    L, U = LU(A)\n",
    "    Y=solinf(L, b)\n",
    "    x=solsup(U,Y)\n",
    "    #fini\n",
    "    return x;"
   ],
   "outputs": [],
   "execution_count": 70
  },
  {
   "cell_type": "markdown",
   "id": "5acf9564-0db0-4b7c-8456-82ef7cdb8616",
   "metadata": {},
   "source": [
    "Application : utiliser la fonction `resolLU()` pour déterminer la solution de\n",
    "\n",
    "$$\n",
    "\\begin{pmatrix} 1 & 2 & 3 \\\\ 5 & 2 & 1 \\\\ 3 & -1 & 1 \\end{pmatrix} x = \\begin{pmatrix} 5 \\\\ 5 \\\\ 6 \\end{pmatrix}.\n",
    "$$"
   ]
  },
  {
   "metadata": {
    "ExecuteTime": {
     "end_time": "2025-09-21T21:29:55.159396Z",
     "start_time": "2025-09-21T21:29:55.156833Z"
    }
   },
   "cell_type": "code",
   "source": [
    "x=resolLU(np.array([[1,2,3],[5,2,1],[3,-1,1]],dtype=np.float64),np.array([5,5,6],dtype=np.float64));\n",
    "print(np.array([[1,2,3],[5,2,1],[3,-1,1]])@x)\n",
    "print('x = ', x)"
   ],
   "id": "cb6c7bba970732c8",
   "outputs": [
    {
     "name": "stdout",
     "output_type": "stream",
     "text": [
      "[5. 5. 6.]\n",
      "x =  [ 1. -1.  2.]\n"
     ]
    }
   ],
   "execution_count": 71
  },
  {
   "cell_type": "markdown",
   "id": "f55ede69-48d1-440e-ac59-4523eb5ee46c",
   "metadata": {},
   "source": [
    "7. Ecrire une fonction\n",
    "```\n",
    "B = inverse(A)\n",
    "```\n",
    "qui calcule la matrice $B$ inverse de $A$ en utilisant `LU()`, `solinf()` et `solsup()` et en minimisant le \n",
    "nombre d'opérations."
   ]
  },
  {
   "cell_type": "code",
   "id": "79c06b48-1ac5-4b27-b7b6-fdcfba4153b1",
   "metadata": {
    "ExecuteTime": {
     "end_time": "2025-09-21T21:29:55.194199Z",
     "start_time": "2025-09-21T21:29:55.191649Z"
    }
   },
   "source": [
    "def inverse(A):\n",
    "    n = np.size(A[0,:])\n",
    "    # A COMPLETER\n",
    "    b=np.eye(n)\n",
    "    Y=np.zeros((n,n))\n",
    "    B=np.zeros((n,n))\n",
    "    L,U=LU(A)\n",
    "    for i in range(0,n):\n",
    "        Y[:,i]=solinf(L,b[:,i])\n",
    "        B[:,i]=solsup(U,Y[:,i])\n",
    "    #fini\n",
    "    return B"
   ],
   "outputs": [],
   "execution_count": 72
  },
  {
   "cell_type": "markdown",
   "id": "8abace67-6cb6-403e-b1ce-77f034f7537f",
   "metadata": {},
   "source": [
    "Application : utiliser la fonction `inverse()` pour déterminer la matrice $B$ inverse de\n",
    "\n",
    "$$\n",
    "A = \\begin{pmatrix} 1 & 2 & 3 \\\\ 5 & 2 & 1 \\\\ 3 & -1 & 1 \\end{pmatrix}.\n",
    "$$"
   ]
  },
  {
   "cell_type": "code",
   "id": "6288f5a8-de7e-4c0c-9aa0-c02f24e6a281",
   "metadata": {
    "ExecuteTime": {
     "end_time": "2025-09-21T21:30:34.985247Z",
     "start_time": "2025-09-21T21:30:34.981999Z"
    }
   },
   "source": [
    "A = np.array([[1, 2, 3], [5, 2, 1], [3, -1, 1]], dtype=np.float64);\n",
    "B = inverse(A);\n",
    "C = B@A;\n",
    "print( B,\"\\n\", C, la.norm(C - np.eye(3)) )"
   ],
   "outputs": [
    {
     "name": "stdout",
     "output_type": "stream",
     "text": [
      "[[-0.08823529  0.14705882  0.11764706]\n",
      " [ 0.05882353  0.23529412 -0.41176471]\n",
      " [ 0.32352941 -0.20588235  0.23529412]] \n",
      " [[ 1.00000000e+00 -2.22044605e-16 -3.33066907e-16]\n",
      " [ 1.11022302e-16  1.00000000e+00  5.55111512e-17]\n",
      " [ 5.55111512e-17  5.55111512e-17  1.00000000e+00]] 4.80740671595891e-16\n"
     ]
    }
   ],
   "execution_count": 76
  }
 ],
 "metadata": {
  "kernelspec": {
   "display_name": "Python [conda env:base] *",
   "language": "python",
   "name": "conda-base-py"
  },
  "language_info": {
   "codemirror_mode": {
    "name": "ipython",
    "version": 3
   },
   "file_extension": ".py",
   "mimetype": "text/x-python",
   "name": "python",
   "nbconvert_exporter": "python",
   "pygments_lexer": "ipython3",
   "version": "3.11.5"
  },
  "toc-autonumbering": false,
  "toc-showcode": true,
  "toc-showmarkdowntxt": false
 },
 "nbformat": 4,
 "nbformat_minor": 5
}
