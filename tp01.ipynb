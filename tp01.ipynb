{
 "cells": [
  {
   "cell_type": "markdown",
   "id": "f6fd6083-f549-46d6-b1ce-484ab7dbd226",
   "metadata": {
    "tags": []
   },
   "source": [
    "## MT09 - TP1 - Automne 2025\n",
    "### Prise en main de Python/Numpy/Matplotlib \n",
    "### + exercices (pas d'�valuation)"
   ]
  },
  {
   "cell_type": "markdown",
   "id": "3cf64283-9bc9-422a-b4d8-35f3e73ffb7d",
   "metadata": {},
   "source": [
    "#### Scalaires et bool�ens"
   ]
  },
  {
   "cell_type": "code",
   "id": "3987624a-9265-4d20-b1e6-8a7b4448b8b9",
   "metadata": {
    "ExecuteTime": {
     "end_time": "2025-09-21T17:28:04.143727Z",
     "start_time": "2025-09-21T17:28:04.095348Z"
    }
   },
   "source": [
    "a = 1\n",
    "print('a = ', a)\n",
    "print(type(a), '\\n')\n",
    "\n",
    "b = 1.0\n",
    "print('b = ', b)\n",
    "print(type(b), '\\n')\n",
    "\n",
    "c = (float)(1)\n",
    "print('c = ', c)\n",
    "print(type(c), '\\n')\n",
    "\n",
    "import numpy as np\n",
    "d = (np.float64)(1)\n",
    "print('d = ', d)\n",
    "print(type(d), '\\n')\n",
    "\n",
    "e = 3+4j\n",
    "print(e)\n",
    "print(type(e), '\\n')\n",
    "\n",
    "f = complex(3, 4)\n",
    "print(f)\n",
    "print(type(f), '\\n')\n",
    "\n",
    "test = True\n",
    "print(type(test))\n",
    "print(test)\n",
    "print(test + 2)\n",
    "print((not(test)) + 2)"
   ],
   "outputs": [
    {
     "name": "stdout",
     "output_type": "stream",
     "text": [
      "a =  1\n",
      "<class 'int'> \n",
      "\n",
      "b =  1.0\n",
      "<class 'float'> \n",
      "\n",
      "c =  1.0\n",
      "<class 'float'> \n",
      "\n",
      "d =  1.0\n",
      "<class 'numpy.float64'> \n",
      "\n",
      "(3+4j)\n",
      "<class 'complex'> \n",
      "\n",
      "(3+4j)\n",
      "<class 'complex'> \n",
      "\n",
      "<class 'bool'>\n",
      "True\n",
      "3\n",
      "2\n"
     ]
    }
   ],
   "execution_count": 1
  },
  {
   "cell_type": "markdown",
   "id": "b923f9a4-a4cb-4127-9063-4923049168f2",
   "metadata": {},
   "source": [
    "#### Arrays\n",
    "\n",
    "1. �x�cutez les diff�rents scripts python ci-dessous (bouton \"play\" ou touches Shift+Enter pour ex�cuter les cellules) et interpr�tez les r�sultats:"
   ]
  },
  {
   "cell_type": "code",
   "id": "8e75fcae-4bea-4969-a465-2c95ca6eaf1e",
   "metadata": {
    "tags": [],
    "ExecuteTime": {
     "end_time": "2025-09-21T17:28:04.157258Z",
     "start_time": "2025-09-21T17:28:04.154194Z"
    }
   },
   "source": [
    "import numpy as np\n",
    "x = np.arange(10)\n",
    "print('x = ', x)\n",
    "y1 = np.arange(1,7)\n",
    "print('y1 = ', y1)\n",
    "step = 0.5\n",
    "y2 = np.arange(1,7, step)\n",
    "print('y2 = ', y2)\n",
    "z =  np.arange(10)[::-1]\n",
    "print('z = ', z)\n",
    "w = x[19:0:-1]\n",
    "print('w = ',w)"
   ],
   "outputs": [
    {
     "name": "stdout",
     "output_type": "stream",
     "text": [
      "x =  [0 1 2 3 4 5 6 7 8 9]\n",
      "y1 =  [1 2 3 4 5 6]\n",
      "y2 =  [1.  1.5 2.  2.5 3.  3.5 4.  4.5 5.  5.5 6.  6.5]\n",
      "z =  [9 8 7 6 5 4 3 2 1 0]\n",
      "w =  [9 8 7 6 5 4 3 2 1]\n"
     ]
    }
   ],
   "execution_count": 2
  },
  {
   "cell_type": "markdown",
   "id": "a5b276ae",
   "metadata": {},
   "source": [
    "On a plusieurs définitons de variables ci dessus. La fonction np.arange permet de créer une liste de valeur, on peut définir la valeur de départ et la valeur d'arrivée comme dans y1, on peut aussi préciser le pas via un 3ème arguement step. On peut aussi préciser une valeur d'arrivée comme dans la syntaxe de z. "
   ]
  },
  {
   "cell_type": "code",
   "id": "b938bf90-8f82-4898-8775-3e16dbd7266f",
   "metadata": {
    "ExecuteTime": {
     "end_time": "2025-09-21T17:28:04.239417Z",
     "start_time": "2025-09-21T17:28:04.237437Z"
    }
   },
   "source": [
    "x = np.array([1, 2, 3, 4, 5])\n",
    "print(x)\n",
    "print(type(x))\n",
    "print(type(x[0]))\n",
    "diff = (x[2]-x[1]) / (x[2]-x[0])\n",
    "print( diff )\n",
    "print( type(diff))"
   ],
   "outputs": [
    {
     "name": "stdout",
     "output_type": "stream",
     "text": [
      "[1 2 3 4 5]\n",
      "<class 'numpy.ndarray'>\n",
      "<class 'numpy.int64'>\n",
      "0.5\n",
      "<class 'numpy.float64'>\n"
     ]
    }
   ],
   "execution_count": 3
  },
  {
   "cell_type": "markdown",
   "id": "08f14330",
   "metadata": {},
   "source": [
    "Le code affiche gloablement les types des différentes variables et fait une différence entre certaines valeurs d'entre elles. "
   ]
  },
  {
   "cell_type": "code",
   "id": "0a7ac1ed-17a5-48b2-aea9-8fc973c6f0ca",
   "metadata": {
    "ExecuteTime": {
     "end_time": "2025-09-21T17:28:04.249522Z",
     "start_time": "2025-09-21T17:28:04.247258Z"
    }
   },
   "source": [
    "x = np.array([1, 2, 3, 4, 5], dtype = np.float64)\n",
    "print(x)\n",
    "print(type(x))\n",
    "print(type(x[0]))"
   ],
   "outputs": [
    {
     "name": "stdout",
     "output_type": "stream",
     "text": [
      "[1. 2. 3. 4. 5.]\n",
      "<class 'numpy.ndarray'>\n",
      "<class 'numpy.float64'>\n"
     ]
    }
   ],
   "execution_count": 4
  },
  {
   "cell_type": "markdown",
   "id": "a067a877",
   "metadata": {},
   "source": [
    "Ici on définit une variable np.array et on setup les elements manuellement pour que ce soit des types floats via la fonction dtype."
   ]
  },
  {
   "cell_type": "code",
   "id": "fc65237a-30f3-4f9b-85b8-497b0ebb60db",
   "metadata": {
    "ExecuteTime": {
     "end_time": "2025-09-21T17:28:04.359703Z",
     "start_time": "2025-09-21T17:28:04.357692Z"
    }
   },
   "source": [
    "x = np.array([1.1, 2.2, 3.3])\n",
    "print(type(x[0]))"
   ],
   "outputs": [
    {
     "name": "stdout",
     "output_type": "stream",
     "text": [
      "<class 'numpy.float64'>\n"
     ]
    }
   ],
   "execution_count": 5
  },
  {
   "cell_type": "markdown",
   "id": "e1256aa1",
   "metadata": {},
   "source": [
    "On print le type du premier element."
   ]
  },
  {
   "cell_type": "code",
   "id": "5445b2f4-6213-49b9-b473-2f28155357f8",
   "metadata": {
    "jupyter": {
     "outputs_hidden": true
    },
    "scrolled": true,
    "tags": [],
    "ExecuteTime": {
     "end_time": "2025-09-21T17:28:04.414722Z",
     "start_time": "2025-09-21T17:28:04.412195Z"
    }
   },
   "source": [
    "a = -10; b = 10;\n",
    "u = np.linspace(a, b, 10);\n",
    "print('u = ', u)\n",
    "help(np.linspace)"
   ],
   "outputs": [
    {
     "name": "stdout",
     "output_type": "stream",
     "text": [
      "u =  [-10.          -7.77777778  -5.55555556  -3.33333333  -1.11111111\n",
      "   1.11111111   3.33333333   5.55555556   7.77777778  10.        ]\n",
      "Help on _ArrayFunctionDispatcher in module numpy:\n",
      "\n",
      "linspace(\n",
      "    start,\n",
      "    stop,\n",
      "    num=50,\n",
      "    endpoint=True,\n",
      "    retstep=False,\n",
      "    dtype=None,\n",
      "    axis=0,\n",
      "    *,\n",
      "    device=None\n",
      ")\n",
      "    Return evenly spaced numbers over a specified interval.\n",
      "\n",
      "    Returns `num` evenly spaced samples, calculated over the\n",
      "    interval [`start`, `stop`].\n",
      "\n",
      "    The endpoint of the interval can optionally be excluded.\n",
      "\n",
      "    .. versionchanged:: 1.20.0\n",
      "        Values are rounded towards ``-inf`` instead of ``0`` when an\n",
      "        integer ``dtype`` is specified. The old behavior can\n",
      "        still be obtained with ``np.linspace(start, stop, num).astype(int)``\n",
      "\n",
      "    Parameters\n",
      "    ----------\n",
      "    start : array_like\n",
      "        The starting value of the sequence.\n",
      "    stop : array_like\n",
      "        The end value of the sequence, unless `endpoint` is set to False.\n",
      "        In that case, the sequence consists of all but the last of ``num + 1``\n",
      "        evenly spaced samples, so that `stop` is excluded.  Note that the step\n",
      "        size changes when `endpoint` is False.\n",
      "    num : int, optional\n",
      "        Number of samples to generate. Default is 50. Must be non-negative.\n",
      "    endpoint : bool, optional\n",
      "        If True, `stop` is the last sample. Otherwise, it is not included.\n",
      "        Default is True.\n",
      "    retstep : bool, optional\n",
      "        If True, return (`samples`, `step`), where `step` is the spacing\n",
      "        between samples.\n",
      "    dtype : dtype, optional\n",
      "        The type of the output array.  If `dtype` is not given, the data type\n",
      "        is inferred from `start` and `stop`. The inferred dtype will never be\n",
      "        an integer; `float` is chosen even if the arguments would produce an\n",
      "        array of integers.\n",
      "    axis : int, optional\n",
      "        The axis in the result to store the samples.  Relevant only if start\n",
      "        or stop are array-like.  By default (0), the samples will be along a\n",
      "        new axis inserted at the beginning. Use -1 to get an axis at the end.\n",
      "    device : str, optional\n",
      "        The device on which to place the created array. Default: None.\n",
      "        For Array-API interoperability only, so must be ``\"cpu\"`` if passed.\n",
      "\n",
      "        .. versionadded:: 2.0.0\n",
      "\n",
      "    Returns\n",
      "    -------\n",
      "    samples : ndarray\n",
      "        There are `num` equally spaced samples in the closed interval\n",
      "        ``[start, stop]`` or the half-open interval ``[start, stop)``\n",
      "        (depending on whether `endpoint` is True or False).\n",
      "    step : float, optional\n",
      "        Only returned if `retstep` is True\n",
      "\n",
      "        Size of spacing between samples.\n",
      "\n",
      "\n",
      "    See Also\n",
      "    --------\n",
      "    arange : Similar to `linspace`, but uses a step size (instead of the\n",
      "             number of samples).\n",
      "    geomspace : Similar to `linspace`, but with numbers spaced evenly on a log\n",
      "                scale (a geometric progression).\n",
      "    logspace : Similar to `geomspace`, but with the end points specified as\n",
      "               logarithms.\n",
      "    :ref:`how-to-partition`\n",
      "\n",
      "    Examples\n",
      "    --------\n",
      "    >>> import numpy as np\n",
      "    >>> np.linspace(2.0, 3.0, num=5)\n",
      "    array([2.  , 2.25, 2.5 , 2.75, 3.  ])\n",
      "    >>> np.linspace(2.0, 3.0, num=5, endpoint=False)\n",
      "    array([2. ,  2.2,  2.4,  2.6,  2.8])\n",
      "    >>> np.linspace(2.0, 3.0, num=5, retstep=True)\n",
      "    (array([2.  ,  2.25,  2.5 ,  2.75,  3.  ]), 0.25)\n",
      "\n",
      "    Graphical illustration:\n",
      "\n",
      "    >>> import matplotlib.pyplot as plt\n",
      "    >>> N = 8\n",
      "    >>> y = np.zeros(N)\n",
      "    >>> x1 = np.linspace(0, 10, N, endpoint=True)\n",
      "    >>> x2 = np.linspace(0, 10, N, endpoint=False)\n",
      "    >>> plt.plot(x1, y, 'o')\n",
      "    [<matplotlib.lines.Line2D object at 0x...>]\n",
      "    >>> plt.plot(x2, y + 0.5, 'o')\n",
      "    [<matplotlib.lines.Line2D object at 0x...>]\n",
      "    >>> plt.ylim([-0.5, 1])\n",
      "    (-0.5, 1)\n",
      "    >>> plt.show()\n",
      "\n"
     ]
    }
   ],
   "execution_count": 6
  },
  {
   "cell_type": "markdown",
   "id": "899f1bee",
   "metadata": {},
   "source": [
    "Linspace est une fonction qui permet de diviser un intervalle d'une valeur de départ à une valeur d'arrivée de maniére équitable selon le paramètre donnée.\n",
    "    Help sert à obtenir des informations (la documentation d'une fonction)"
   ]
  },
  {
   "cell_type": "code",
   "id": "1c6b7f22-8900-4cfc-aad8-fc8d8ef84b95",
   "metadata": {
    "ExecuteTime": {
     "end_time": "2025-09-21T17:28:04.467897Z",
     "start_time": "2025-09-21T17:28:04.465040Z"
    }
   },
   "source": [
    "for s in u:\n",
    "    print(s)\n",
    "    print('hello, s = ', s)\n",
    "print('fin boucle')\n",
    "# Attention : bien respecter les tabulations pour la port�e du 'for\""
   ],
   "outputs": [
    {
     "name": "stdout",
     "output_type": "stream",
     "text": [
      "-10.0\n",
      "hello, s =  -10.0\n",
      "-7.777777777777778\n",
      "hello, s =  -7.777777777777778\n",
      "-5.555555555555555\n",
      "hello, s =  -5.555555555555555\n",
      "-3.333333333333333\n",
      "hello, s =  -3.333333333333333\n",
      "-1.1111111111111107\n",
      "hello, s =  -1.1111111111111107\n",
      "1.1111111111111107\n",
      "hello, s =  1.1111111111111107\n",
      "3.333333333333334\n",
      "hello, s =  3.333333333333334\n",
      "5.555555555555557\n",
      "hello, s =  5.555555555555557\n",
      "7.777777777777779\n",
      "hello, s =  7.777777777777779\n",
      "10.0\n",
      "hello, s =  10.0\n",
      "fin boucle\n"
     ]
    }
   ],
   "execution_count": 7
  },
  {
   "cell_type": "markdown",
   "id": "36657fbf",
   "metadata": {},
   "source": [
    "Ca affiche tous les valeurs de u."
   ]
  },
  {
   "cell_type": "markdown",
   "id": "d82bffd1",
   "metadata": {
    "tags": []
   },
   "source": [
    "for s in u:\n",
    "    if (s>0):\n",
    "        print(s)\n",
    "print(\"Done !\\n\");"
   ]
  },
  {
   "cell_type": "markdown",
   "id": "a8db2bd4",
   "metadata": {},
   "source": [
    "Affiche toutes les valeurs positives de u. "
   ]
  },
  {
   "cell_type": "markdown",
   "id": "6d3cec60-a356-4de0-8221-c920bba3a8b6",
   "metadata": {},
   "source": [
    "#### Op�rations sur vecteurs\n",
    "\n",
    "2. �x�cutez les diff�rents codes python ci-dessous (Shift+Enter pour ex�cuter) et analysez les r�sultats obtenus:"
   ]
  },
  {
   "cell_type": "code",
   "id": "b770ac94-6d48-4363-a9d6-8648dd15ca61",
   "metadata": {
    "tags": [],
    "ExecuteTime": {
     "end_time": "2025-09-21T17:28:04.510992Z",
     "start_time": "2025-09-21T17:28:04.508829Z"
    }
   },
   "source": [
    "import numpy as np\n",
    "x = np.array([1,  2, 3], dtype=np.float64)\n",
    "y = np.array([3, -2, 1], dtype=np.float64)"
   ],
   "outputs": [],
   "execution_count": 8
  },
  {
   "cell_type": "code",
   "id": "606697ab-90c4-4dbf-aaef-d6214b5d9f37",
   "metadata": {
    "ExecuteTime": {
     "end_time": "2025-09-21T17:28:04.543074Z",
     "start_time": "2025-09-21T17:28:04.541223Z"
    }
   },
   "source": [
    "print(x*y) # Element by element"
   ],
   "outputs": [
    {
     "name": "stdout",
     "output_type": "stream",
     "text": [
      "[ 3. -4.  3.]\n"
     ]
    }
   ],
   "execution_count": 9
  },
  {
   "cell_type": "markdown",
   "id": "d967fd8e",
   "metadata": {},
   "source": [
    "Ca fait la multiplication element par element de chaque vecteur."
   ]
  },
  {
   "cell_type": "code",
   "id": "4fad0f0c-c81f-469a-b79f-ddaec78fb360",
   "metadata": {
    "ExecuteTime": {
     "end_time": "2025-09-21T17:28:04.579374Z",
     "start_time": "2025-09-21T17:28:04.576942Z"
    }
   },
   "source": [
    "print(2*x)"
   ],
   "outputs": [
    {
     "name": "stdout",
     "output_type": "stream",
     "text": [
      "[2. 4. 6.]\n"
     ]
    }
   ],
   "execution_count": 10
  },
  {
   "cell_type": "markdown",
   "id": "2ed5cbe5",
   "metadata": {},
   "source": [
    "multiplication de x par une constante"
   ]
  },
  {
   "cell_type": "code",
   "id": "0c46b7f5-b19e-4db1-bf51-21c04c191be6",
   "metadata": {
    "ExecuteTime": {
     "end_time": "2025-09-21T17:28:04.616782Z",
     "start_time": "2025-09-21T17:28:04.614550Z"
    }
   },
   "source": [
    "print(y@x) # !! y^T x"
   ],
   "outputs": [
    {
     "name": "stdout",
     "output_type": "stream",
     "text": [
      "2.0\n"
     ]
    }
   ],
   "execution_count": 11
  },
  {
   "cell_type": "markdown",
   "id": "311d8d17",
   "metadata": {},
   "source": [
    "Produit scalaire de x"
   ]
  },
  {
   "cell_type": "code",
   "id": "310cc461-38be-4015-b636-8c52c2cdaa52",
   "metadata": {
    "ExecuteTime": {
     "end_time": "2025-09-21T17:28:04.656389Z",
     "start_time": "2025-09-21T17:28:04.654022Z"
    }
   },
   "source": [
    "print(y@x) # !! y^T x\n",
    "print(x @ y.T) # !!! (x^T y) et PAS (x y^T)"
   ],
   "outputs": [
    {
     "name": "stdout",
     "output_type": "stream",
     "text": [
      "2.0\n",
      "2.0\n"
     ]
    }
   ],
   "execution_count": 12
  },
  {
   "cell_type": "markdown",
   "id": "5ed624f0",
   "metadata": {},
   "source": [
    "2 manière de faire le produit scalaire entre x et y d'abord y^t.x et ensuite 2eme ligne x^t.y"
   ]
  },
  {
   "cell_type": "code",
   "id": "6b5b908f-e1b6-470e-ad30-0fc7a3b16967",
   "metadata": {
    "ExecuteTime": {
     "end_time": "2025-09-21T17:28:04.706469Z",
     "start_time": "2025-09-21T17:28:04.703850Z"
    }
   },
   "source": [
    "print( np.outer(x, y) ) # !! x y^T"
   ],
   "outputs": [
    {
     "name": "stdout",
     "output_type": "stream",
     "text": [
      "[[ 3. -2.  1.]\n",
      " [ 6. -4.  2.]\n",
      " [ 9. -6.  3.]]\n"
     ]
    }
   ],
   "execution_count": 13
  },
  {
   "cell_type": "markdown",
   "id": "7be51e30",
   "metadata": {},
   "source": [
    "Calcul du produit matriciel"
   ]
  },
  {
   "cell_type": "code",
   "id": "d3c9812d-c7e7-47e2-aeae-edb12cb01e5e",
   "metadata": {
    "ExecuteTime": {
     "end_time": "2025-09-21T17:28:04.735398Z",
     "start_time": "2025-09-21T17:28:04.733158Z"
    }
   },
   "source": [
    "x = np.array([1,  2, 3], dtype=np.float64)\n",
    "print(x.shape)\n",
    "print(x.size)\n",
    "print(x, x.T, x - x.T)"
   ],
   "outputs": [
    {
     "name": "stdout",
     "output_type": "stream",
     "text": [
      "(3,)\n",
      "3\n",
      "[1. 2. 3.] [1. 2. 3.] [0. 0. 0.]\n"
     ]
    }
   ],
   "execution_count": 14
  },
  {
   "cell_type": "markdown",
   "id": "68bef51d",
   "metadata": {},
   "source": [
    "On affiche le format de x, nb ligne et nb colonne sa size nbligne * nb colonne, et on constate que python ne fait pas la différence entre x et x.T et qu'il est même très permissif dans le calcul de 2 vecteurs qui n'ont pas un format compatible."
   ]
  },
  {
   "cell_type": "code",
   "id": "4d961ddf-a4f7-4703-9e93-d5f3ff1fe7c6",
   "metadata": {
    "ExecuteTime": {
     "end_time": "2025-09-21T17:28:04.767933Z",
     "start_time": "2025-09-21T17:28:04.765059Z"
    }
   },
   "source": [
    "x = np.array([1,  2, 3], dtype=np.float64)\n",
    "y = np.array([3, -2, 1], dtype=np.float64)\n",
    "x.shape = (3,1); y.shape = (1,3);\n",
    "print(x)\n",
    "print(y)\n",
    "print(y.T)"
   ],
   "outputs": [
    {
     "name": "stdout",
     "output_type": "stream",
     "text": [
      "[[1.]\n",
      " [2.]\n",
      " [3.]]\n",
      "[[ 3. -2.  1.]]\n",
      "[[ 3.]\n",
      " [-2.]\n",
      " [ 1.]]\n"
     ]
    }
   ],
   "execution_count": 15
  },
  {
   "cell_type": "markdown",
   "id": "5ed65e3b",
   "metadata": {},
   "source": [
    "Lorsqu'on définit le format de l'array on commence à travailler avec des matrices et non plus des arrays simple ce qui fait la taille de la matrice commence à importer."
   ]
  },
  {
   "cell_type": "code",
   "id": "9f249f4b-39a7-44f6-bf14-793866682766",
   "metadata": {
    "scrolled": true,
    "ExecuteTime": {
     "end_time": "2025-09-21T17:28:04.796401Z",
     "start_time": "2025-09-21T17:28:04.792613Z"
    }
   },
   "source": [
    "x = np.array([1,  2, 3], dtype=np.float64)\n",
    "y = np.array([3, -2, 1], dtype=np.float64)\n",
    "print(np.outer(x, y))\n",
    "x.shape = (1,3); y.shape = (1,3); # vecteurs colonnes\n",
    "z = x.T @ y\n",
    "print(z) \n",
    "z.shape"
   ],
   "outputs": [
    {
     "name": "stdout",
     "output_type": "stream",
     "text": [
      "[[ 3. -2.  1.]\n",
      " [ 6. -4.  2.]\n",
      " [ 9. -6.  3.]]\n",
      "[[ 3. -2.  1.]\n",
      " [ 6. -4.  2.]\n",
      " [ 9. -6.  3.]]\n"
     ]
    },
    {
     "data": {
      "text/plain": [
       "(3, 3)"
      ]
     },
     "execution_count": 16,
     "metadata": {},
     "output_type": "execute_result"
    }
   ],
   "execution_count": 16
  },
  {
   "cell_type": "markdown",
   "id": "f675d9c9",
   "metadata": {},
   "source": [
    "On constate que np.outer convertit automatiquement le résultat en une matrix (2d array), qu'elle peut prendre 1d array en argument, et que le resultat est le meme qu'un produit scalaire fait via @."
   ]
  },
  {
   "cell_type": "code",
   "id": "c4ccdace-be3d-4868-84e0-e29aa7699eb8",
   "metadata": {
    "tags": [],
    "ExecuteTime": {
     "end_time": "2025-09-21T17:28:04.844620Z",
     "start_time": "2025-09-21T17:28:04.841789Z"
    }
   },
   "source": [
    "x = np.array([[1,2,3]]).T\n",
    "y = np.array([[4,5,6]]).T\n",
    "print(x.T@y)\n",
    "print( float(x.T@y) )\n",
    "print(x@y.T)\n",
    "A = np.array([[2,-1,0],[-1,2,-1],[0,-1,2]])\n",
    "print(x.T@A@x)\n",
    "x = np.array([1,2,3])\n",
    "print(x@A@x)"
   ],
   "outputs": [
    {
     "name": "stdout",
     "output_type": "stream",
     "text": [
      "[[32]]\n",
      "32.0\n",
      "[[ 4  5  6]\n",
      " [ 8 10 12]\n",
      " [12 15 18]]\n",
      "[[12]]\n",
      "12\n"
     ]
    },
    {
     "name": "stderr",
     "output_type": "stream",
     "text": [
      "C:\\Users\\zeno3\\AppData\\Local\\Temp\\ipykernel_12688\\1178900233.py:4: DeprecationWarning: Conversion of an array with ndim > 0 to a scalar is deprecated, and will error in future. Ensure you extract a single element from your array before performing this operation. (Deprecated NumPy 1.25.)\n",
      "  print( float(x.T@y) )\n"
     ]
    }
   ],
   "execution_count": 17
  },
  {
   "cell_type": "markdown",
   "id": "49a5629a",
   "metadata": {},
   "source": [
    "La nature du resultat du produit scalaire depend de la nature des variables utilisées, si c'est des matrix (2d array) le resultat sera un 2 d array si c'est des 1d array le resultat sera un float. Le produit x@y.T nous donne le resultat du produit matriciel entre ces deux vecteurs, on en déduit que @ peut petre utilisé pour les produits matriciels en générals."
   ]
  },
  {
   "cell_type": "code",
   "id": "6f8a186b-c42a-4c50-a298-4881bb7a6fae",
   "metadata": {
    "ExecuteTime": {
     "end_time": "2025-09-21T17:28:05.014814Z",
     "start_time": "2025-09-21T17:28:04.887689Z"
    }
   },
   "source": [
    "print(x @ y.T)"
   ],
   "outputs": [
    {
     "ename": "ValueError",
     "evalue": "matmul: Input operand 1 has a mismatch in its core dimension 0, with gufunc signature (n?,k),(k,m?)->(n?,m?) (size 1 is different from 3)",
     "output_type": "error",
     "traceback": [
      "\u001B[31m---------------------------------------------------------------------------\u001B[39m",
      "\u001B[31mValueError\u001B[39m                                Traceback (most recent call last)",
      "\u001B[36mCell\u001B[39m\u001B[36m \u001B[39m\u001B[32mIn[18]\u001B[39m\u001B[32m, line 1\u001B[39m\n\u001B[32m----> \u001B[39m\u001B[32m1\u001B[39m \u001B[38;5;28mprint\u001B[39m(\u001B[43mx\u001B[49m\u001B[43m \u001B[49m\u001B[43m@\u001B[49m\u001B[43m \u001B[49m\u001B[43my\u001B[49m\u001B[43m.\u001B[49m\u001B[43mT\u001B[49m)\n",
      "\u001B[31mValueError\u001B[39m: matmul: Input operand 1 has a mismatch in its core dimension 0, with gufunc signature (n?,k),(k,m?)->(n?,m?) (size 1 is different from 3)"
     ]
    }
   ],
   "execution_count": 18
  },
  {
   "cell_type": "markdown",
   "id": "898e7836-79b2-48da-9ae7-70043876fd73",
   "metadata": {},
   "source": [
    "#### ! R�f�rences et copies\n",
    "3. �x�cuter le code python ci-dessous et comprendre ce qui se passe:"
   ]
  },
  {
   "cell_type": "code",
   "execution_count": 51,
   "id": "63d71a80-dcd7-423d-a587-166c711d3178",
   "metadata": {},
   "outputs": [
    {
     "name": "stdout",
     "output_type": "stream",
     "text": [
      "[5. 2. 3.]\n",
      "[ 1.  2. -1.]\n",
      "[5. 2. 3.] \n",
      "\n"
     ]
    }
   ],
   "source": [
    "import numpy as np\n",
    "x = np.array([1, 2, 3], dtype=np.float64)\n",
    "y = x\n",
    "z = x.copy()\n",
    "z[2] = -1\n",
    "y[0] = 5\n",
    "print(y)\n",
    "print(z)\n",
    "print(x,\"\\n\")"
   ]
  },
  {
   "cell_type": "markdown",
   "id": "c33028a0",
   "metadata": {},
   "source": [
    "On constate que x change quand on modifie y, c'est très simple à expliquer, comme on écrit y = x cela implique que y pointe dans la mémoire au même emplacement que x, donc quand on modifie l'element dans la mémoire, cela le modifie aussi pour x."
   ]
  },
  {
   "cell_type": "code",
   "execution_count": 41,
   "id": "a829894d-31ad-4293-b01a-23d7822ed4b4",
   "metadata": {
    "tags": []
   },
   "outputs": [
    {
     "name": "stdout",
     "output_type": "stream",
     "text": [
      "[1. 6. 3.]\n",
      "[1. 2. 3.] \n",
      "\n"
     ]
    }
   ],
   "source": [
    "x = np.array([1, 2, 3], dtype=np.float64)\n",
    "z = x + 0\n",
    "z[1] = 6\n",
    "print(z)\n",
    "print(x,\"\\n\")"
   ]
  },
  {
   "cell_type": "markdown",
   "id": "96fdafe8",
   "metadata": {},
   "source": [
    "On constate que lorqu'on définit z par le calcul il n'est pas associé au même espace mémoire que x dont on peut le modifier sans crainte de modifier x."
   ]
  },
  {
   "cell_type": "code",
   "execution_count": 42,
   "id": "e903b2bf-d5e5-45f0-a57d-4995b7dfec1b",
   "metadata": {},
   "outputs": [
    {
     "name": "stdout",
     "output_type": "stream",
     "text": [
      "[1. 2. 3.] \n",
      "\n",
      "[1. 2. 3.]\n",
      "[1. 5. 3.]\n",
      "[0. 3. 0.]\n"
     ]
    }
   ],
   "source": [
    "x = np.array([1, 2, 3], dtype=np.float64)\n",
    "print(x,\"\\n\")\n",
    "z = x.copy()\n",
    "z[1] = 5\n",
    "print(x)\n",
    "print(z)\n",
    "print(z-x)"
   ]
  },
  {
   "cell_type": "markdown",
   "id": "cac3b582",
   "metadata": {},
   "source": [
    "Quand on utilise .copy() on peut modifier tranquillement la valeur de z parce qu'il est alloué dans un autre espace mémoire. "
   ]
  },
  {
   "cell_type": "code",
   "execution_count": 48,
   "id": "2c3c2b11-f6f7-4b0e-8452-f75745833f25",
   "metadata": {
    "tags": []
   },
   "outputs": [
    {
     "name": "stdout",
     "output_type": "stream",
     "text": [
      "<class 'numpy.ndarray'>\n",
      "[1. 2. 3.] [2. 4. 6.]\n"
     ]
    }
   ],
   "source": [
    "# Multiplication scalaire - vecteur\n",
    "x = np.array([1, 2, 3], dtype=np.float64)\n",
    "y = 2*x\n",
    "print(type(x))\n",
    "print(x, y)"
   ]
  },
  {
   "cell_type": "code",
   "execution_count": 49,
   "id": "c58a8359-af41-4d66-9e71-2f33d8118dad",
   "metadata": {},
   "outputs": [
    {
     "name": "stdout",
     "output_type": "stream",
     "text": [
      "<class 'list'>\n",
      "[1, 2, 3, 1, 2, 3]\n"
     ]
    }
   ],
   "source": [
    "# ATTENTION !!\n",
    "x = [1, 2, 3]\n",
    "print(type(x))\n",
    "print(2*x)"
   ]
  },
  {
   "cell_type": "markdown",
   "id": "3d85e446",
   "metadata": {},
   "source": [
    "Quand on affiche 2 * x dans le premier cas on travaille avec une ndarray donc c'est géré différemment que dans le 2ème cas ou on travaille avec une list. L4erreur quand on fait 1.5 * x vient du fait qu'on peut pas multiplier une liste par un nombre qui n'est pas entier."
   ]
  },
  {
   "cell_type": "code",
   "execution_count": 50,
   "id": "81388dd9-7d8c-4f66-9c63-5e0b862e6639",
   "metadata": {},
   "outputs": [
    {
     "ename": "TypeError",
     "evalue": "can't multiply sequence by non-int of type 'float'",
     "output_type": "error",
     "traceback": [
      "\u001B[1;31m---------------------------------------------------------------------------\u001B[0m",
      "\u001B[1;31mTypeError\u001B[0m                                 Traceback (most recent call last)",
      "Cell \u001B[1;32mIn[50], line 1\u001B[0m\n\u001B[1;32m----> 1\u001B[0m \u001B[38;5;28mprint\u001B[39m(\u001B[38;5;241;43m1.5\u001B[39;49m\u001B[38;5;241;43m*\u001B[39;49m\u001B[43mx\u001B[49m)\n",
      "\u001B[1;31mTypeError\u001B[0m: can't multiply sequence by non-int of type 'float'"
     ]
    }
   ],
   "source": [
    "print(1.5*x)"
   ]
  },
  {
   "cell_type": "markdown",
   "id": "4b755297-07b0-4381-bb21-90db676f4d7d",
   "metadata": {},
   "source": [
    "#### Matrices, multiplications de matrices\n",
    "4. �x�cutez les diff�rents codes python ci-dessous et analysez les r�sultats:"
   ]
  },
  {
   "cell_type": "code",
   "execution_count": 60,
   "id": "06f39ebe-af65-4837-9278-ae51bfb4611b",
   "metadata": {},
   "outputs": [
    {
     "name": "stdout",
     "output_type": "stream",
     "text": [
      "(3,)\n",
      "[1. 2. 3.]\n",
      "[[1.]\n",
      " [2.]\n",
      " [3.]]\n",
      "(3, 1, 1)\n",
      "(3, 1)\n"
     ]
    }
   ],
   "source": [
    "x = np.array([1, 2, 3], dtype=np.float64) # tableau (array 1d)\n",
    "print(x.shape)\n",
    "print(x) # tableau\n",
    "print(x[:, np.newaxis]) # matrice (vecteur colonne)\n",
    "x = x[:, np.newaxis]\n",
    "print(x.shape)"
   ]
  },
  {
   "cell_type": "markdown",
   "id": "5bbb6f62",
   "metadata": {},
   "source": [
    "La fonction np.newaxis ajoute une dimension au vecteur."
   ]
  },
  {
   "cell_type": "code",
   "execution_count": 66,
   "id": "c5983b77-90fa-4900-abe7-e5d281c1886c",
   "metadata": {},
   "outputs": [
    {
     "name": "stdout",
     "output_type": "stream",
     "text": [
      "[[1. 2.]\n",
      " [3. 4.]\n",
      " [5. 6.]\n",
      " [7. 8.]]\n",
      "2\n",
      "8\n",
      "4   2\n",
      "[1. 2. 3. 4. 5. 6. 7. 8.]\n",
      "[[1. 2.]\n",
      " [3. 4.]\n",
      " [5. 6.]\n",
      " [7. 8.]]\n"
     ]
    }
   ],
   "source": [
    "A = np.array([[1, 2], [3, 4], [5, 6], [7, 8]], dtype=np.float64);\n",
    "print(A)\n",
    "print(A.ndim)\n",
    "print(A.size)\n",
    "r, c = A.shape\n",
    "print(r, \" \", c)\n",
    "A.shape=(8,)\n",
    "print(A)\n",
    "newarr = A.reshape(4, 2)\n",
    "print(newarr)"
   ]
  },
  {
   "cell_type": "markdown",
   "id": "e43aebeb",
   "metadata": {},
   "source": [
    "On a ndim qui permet d'obtenir le npombre de dimensions, shape permet d'obtenir la taille d'un vecteur mais aussi de la redefinir. Reshape permet de redefinir la taille d'une matrice."
   ]
  },
  {
   "cell_type": "code",
   "execution_count": 67,
   "id": "81d68946-9ff5-4c7a-afd4-2638d070d0ea",
   "metadata": {
    "tags": []
   },
   "outputs": [
    {
     "name": "stdout",
     "output_type": "stream",
     "text": [
      "[1. 2. 3. 4. 5. 6. 7. 8.] [1. 2. 3. 4. 5. 6. 7. 8.]\n"
     ]
    }
   ],
   "source": [
    "B = A.T; # transposee\n",
    "print(B, A);"
   ]
  },
  {
   "cell_type": "markdown",
   "id": "ced738cc",
   "metadata": {},
   "source": [
    "Python ne prend pas en compte les transposées quand on travaille sur une dimension."
   ]
  },
  {
   "cell_type": "code",
   "execution_count": 68,
   "id": "074482f2-a4db-4a8c-b94e-ce99dbf67ea7",
   "metadata": {
    "tags": []
   },
   "outputs": [
    {
     "name": "stdout",
     "output_type": "stream",
     "text": [
      "204.0\n"
     ]
    }
   ],
   "source": [
    "print(A@B)"
   ]
  },
  {
   "cell_type": "code",
   "execution_count": 20,
   "id": "168b4294-6083-47e1-8463-8f109f08bbca",
   "metadata": {
    "tags": []
   },
   "outputs": [
    {
     "name": "stdout",
     "output_type": "stream",
     "text": [
      "204.0\n"
     ]
    }
   ],
   "source": [
    "print(B@A)"
   ]
  },
  {
   "metadata": {},
   "cell_type": "markdown",
   "source": "Le produit matriciel ici est commutatif comme on travaille avec un ndarray de dimension 1.",
   "id": "1d3507d474c4191d"
  },
  {
   "cell_type": "code",
   "execution_count": 69,
   "id": "1f6b88ae-016b-4154-a7a8-0a433138fe8b",
   "metadata": {
    "tags": []
   },
   "outputs": [
    {
     "name": "stdout",
     "output_type": "stream",
     "text": [
      "[ 1.  4.  9. 16. 25. 36. 49. 64.]\n"
     ]
    }
   ],
   "source": [
    "print(A*B)"
   ]
  },
  {
   "cell_type": "markdown",
   "id": "5bda9721",
   "metadata": {},
   "source": [
    "On fait ici une multiplication par élément."
   ]
  },
  {
   "cell_type": "code",
   "execution_count": 72,
   "id": "bc852186-a653-45cc-8471-5c580c4d83cd",
   "metadata": {
    "tags": []
   },
   "outputs": [
    {
     "name": "stdout",
     "output_type": "stream",
     "text": [
      "204.0\n"
     ]
    }
   ],
   "source": [
    "S = A @ A.T;\n",
    "print(S)"
   ]
  },
  {
   "cell_type": "markdown",
   "id": "fdb8a2ad",
   "metadata": {},
   "source": [
    "Même raisonnement que question précédente."
   ]
  },
  {
   "cell_type": "code",
   "execution_count": 22,
   "id": "f3ab74e4-1850-4f82-867b-47ed0d9ac1c0",
   "metadata": {},
   "outputs": [
    {
     "name": "stdout",
     "output_type": "stream",
     "text": [
      "[[1. 1. 1. 1.]\n",
      " [1. 1. 1. 1.]\n",
      " [1. 1. 1. 1.]]\n"
     ]
    }
   ],
   "source": [
    "A = np.ones((3,4)); print(A)"
   ]
  },
  {
   "cell_type": "code",
   "execution_count": 23,
   "id": "31668f85-5870-48cd-b26f-dbb5105f7081",
   "metadata": {},
   "outputs": [
    {
     "name": "stdout",
     "output_type": "stream",
     "text": [
      "[[0. 0. 0.]\n",
      " [0. 0. 0.]]\n"
     ]
    }
   ],
   "source": [
    "B = np.zeros((2,3)); print(B)"
   ]
  },
  {
   "cell_type": "code",
   "execution_count": 24,
   "id": "59436841-ded9-40fe-8d30-2320d0ad1b2f",
   "metadata": {},
   "outputs": [
    {
     "name": "stdout",
     "output_type": "stream",
     "text": [
      "[[1. 0. 0. 0.]\n",
      " [0. 1. 0. 0.]\n",
      " [0. 0. 1. 0.]\n",
      " [0. 0. 0. 1.]]\n"
     ]
    }
   ],
   "source": [
    "C = np.eye(4); print(C)"
   ]
  },
  {
   "cell_type": "code",
   "execution_count": 25,
   "id": "ecee8023-56a0-492c-8a6f-bd88952099cf",
   "metadata": {},
   "outputs": [
    {
     "name": "stdout",
     "output_type": "stream",
     "text": [
      "[[4 0 0]\n",
      " [0 5 0]\n",
      " [0 0 6]]\n"
     ]
    }
   ],
   "source": [
    "D = np.diag(np.array([4, 5, 6])); print(D)"
   ]
  },
  {
   "cell_type": "markdown",
   "id": "d849e786",
   "metadata": {},
   "source": [
    "On voit ici les fonctions pour créer les matrices de bases, ones pour une matrice de 1, zeros pour matrices nulles, eye pour identité, diag pour une matrice diagonale)"
   ]
  },
  {
   "cell_type": "code",
   "execution_count": 26,
   "id": "6b2df91f-0a55-4730-a0b2-4ebb8b30af01",
   "metadata": {},
   "outputs": [
    {
     "name": "stdout",
     "output_type": "stream",
     "text": [
      "[[ 4 -1  0]\n",
      " [ 0  5 -1]\n",
      " [ 0  0  6]]\n"
     ]
    }
   ],
   "source": [
    "E = np.diag(np.array([4, 5, 6]), 0) + np.diag(np.array([-1, -1]), 1); print(E)"
   ]
  },
  {
   "cell_type": "markdown",
   "id": "af6cd88c-3588-4162-a75c-a5a5ad47ea96",
   "metadata": {},
   "source": [
    "#### Stacking\n",
    "5. Les fonctions ```np.hstack()``` et ```np.vstack()``` sont utiles pour empiler des veteurs dans une matrice. Ex�cutez les scripts suivants :"
   ]
  },
  {
   "cell_type": "code",
   "execution_count": 73,
   "id": "e6bc26df-e290-4ac6-9d6e-f90fe7f82cdc",
   "metadata": {
    "tags": []
   },
   "outputs": [
    {
     "name": "stdout",
     "output_type": "stream",
     "text": [
      "[[1 4 7]\n",
      " [2 5 8]\n",
      " [3 6 9]] \n",
      "\n",
      "[[1 2 3]\n",
      " [4 5 6]\n",
      " [7 8 9]]\n"
     ]
    }
   ],
   "source": [
    "# vecteurs colonnes\n",
    "q1 = np.array([[1,2,3]]).T\n",
    "q2 = np.array([[4,5,6]]).T\n",
    "q3 = np.array([[7,8,9]]).T\n",
    "Q  = np.hstack((q1,q2,q3))\n",
    "print(Q, \"\\n\")\n",
    "# vecteurs lignes\n",
    "r1 = np.array([1,2,3])\n",
    "r2 = np.array([4,5,6])\n",
    "r3 = np.array([7,8,9])\n",
    "R  = np.vstack((r1,r2,r3))\n",
    "print(R)"
   ]
  },
  {
   "cell_type": "markdown",
   "id": "12aa346d",
   "metadata": {},
   "source": [
    "Fonction pour stacker colonne ou ligne."
   ]
  },
  {
   "cell_type": "markdown",
   "id": "ee1ebcf0-2366-4c4b-a85b-ad2ebabac405",
   "metadata": {},
   "source": [
    "#### Accesseurs\n",
    "6. �x�cutez les scripts python suivants :"
   ]
  },
  {
   "cell_type": "code",
   "execution_count": 74,
   "id": "f919fdca-52d2-4c61-a9ea-894465fd37eb",
   "metadata": {},
   "outputs": [
    {
     "name": "stdout",
     "output_type": "stream",
     "text": [
      "[[ 1.  2.  3.]\n",
      " [ 4.  5.  6.]\n",
      " [ 7.  8.  9.]\n",
      " [10. 11. 12.]]\n",
      "[[5. 6.]\n",
      " [8. 9.]]\n",
      "[4. 5. 6.]\n",
      "[ 3.  6.  9. 12.]\n",
      "[[ 3.]\n",
      " [ 6.]\n",
      " [ 9.]\n",
      " [12.]]\n",
      "[[  1.   2.   3.]\n",
      " [  4.   5.   6.]\n",
      " [  7.   8.   9.]\n",
      " [ 10.  11. 100.]]\n",
      "[9. 8. 7.]\n"
     ]
    }
   ],
   "source": [
    "A = np.array([[1, 2, 3], [4, 5, 6], [7, 8, 9], [10, 11, 12]], dtype=np.float64);\n",
    "print(A)\n",
    "print(A[1:3,1:3])\n",
    "print(A[1,:])\n",
    "print(A[:,2]) # ! tableau 1d\n",
    "print(A[:,2:3]) # ! slicing\n",
    "A[-1,-1] = 100\n",
    "print(A)\n",
    "print(A[2,::-1])\n"
   ]
  },
  {
   "cell_type": "markdown",
   "id": "c9809a30-7211-46b7-818d-3aa397de839f",
   "metadata": {},
   "source": [
    "#### Module d'alg�bre lin�aire\n",
    "7. Le module d'alg�bre lin�aire `linalg` de `numpy` donne acc�s � diff�rents outils et m�thodes usuelles telles que la r�solution de syst�mes lin�aires, la d�finition de norme, le conditionnement de matrices, le calcul de valeurs et vecteurs propres, le d�terminant, l'inverse de matrices, etc. Testez les diff�rents scripts suivants:"
   ]
  },
  {
   "cell_type": "code",
   "execution_count": 77,
   "id": "3ed9c6d4-2556-4439-af05-64de517488f2",
   "metadata": {},
   "outputs": [
    {
     "name": "stdout",
     "output_type": "stream",
     "text": [
      "[[1.]\n",
      " [1.]\n",
      " [1.]] [0. 0. 0.]\n"
     ]
    }
   ],
   "source": [
    "import numpy.linalg as la\n",
    "b = np.array([1, 1, 1], dtype=np.float64)\n",
    "A = np.array([[3, -1, -1], [-1, 3, -1], [-1, -1, 3]], dtype=np.float64)\n",
    "x = la.solve(A, b)\n",
    "# Verif\n",
    "print(x[:,np.newaxis], A@x-b)"
   ]
  },
  {
   "cell_type": "markdown",
   "id": "619e783d",
   "metadata": {},
   "source": [
    "Ici on résoud le système linéaire Ax = b et la solution est [1, 1, 1]"
   ]
  },
  {
   "cell_type": "code",
   "execution_count": 78,
   "id": "e85a84da-0114-49cd-8a65-b1440c2f99cb",
   "metadata": {},
   "outputs": [
    {
     "name": "stdout",
     "output_type": "stream",
     "text": [
      "[4. 1. 4.]\n",
      "[[ 0.81649658 -0.57735027  0.19434127]\n",
      " [-0.40824829 -0.57735027 -0.78395561]\n",
      " [-0.40824829 -0.57735027  0.58961434]]\n",
      "[[ 1.00000000e+00 -1.11022302e-16  2.38018475e-01]\n",
      " [-1.11022302e-16  1.00000000e+00 -4.44089210e-16]\n",
      " [ 2.38018475e-01 -4.44089210e-16  1.00000000e+00]]\n"
     ]
    }
   ],
   "source": [
    "D, V = la.eig(A)\n",
    "print(D)\n",
    "print(V)\n",
    "print(V.T @ V) "
   ]
  },
  {
   "cell_type": "markdown",
   "id": "79c2b684",
   "metadata": {},
   "source": [
    "Ca donne les valeurs propres et les vacteurs propres."
   ]
  },
  {
   "cell_type": "code",
   "execution_count": 79,
   "id": "b3d995d4-a725-41b9-bf58-04a26937b6c0",
   "metadata": {},
   "outputs": [
    {
     "name": "stdout",
     "output_type": "stream",
     "text": [
      "[[0.5  0.25 0.25]\n",
      " [0.25 0.5  0.25]\n",
      " [0.25 0.25 0.5 ]] \n",
      " [[1. 0. 0.]\n",
      " [0. 1. 0.]\n",
      " [0. 0. 1.]]\n"
     ]
    }
   ],
   "source": [
    "print(la.inv(A), '\\n', A @ la.inv(A))"
   ]
  },
  {
   "cell_type": "code",
   "execution_count": 80,
   "id": "dfbc1599-5620-45b9-8ac9-110ff31643ff",
   "metadata": {},
   "outputs": [
    {
     "name": "stdout",
     "output_type": "stream",
     "text": [
      "1.7320508075688772\n"
     ]
    }
   ],
   "source": [
    "print(la.norm(x))"
   ]
  },
  {
   "cell_type": "code",
   "execution_count": 81,
   "id": "8ff95720-df13-4b37-b9ce-6679e54919ab",
   "metadata": {
    "tags": []
   },
   "outputs": [
    {
     "name": "stdout",
     "output_type": "stream",
     "text": [
      "[[ 1  0  0  0]\n",
      " [-1  1  0  0]\n",
      " [ 0 -1  1  0]\n",
      " [ 0  0 -1  1]]\n",
      "[[1. 0. 0. 0.]\n",
      " [1. 1. 0. 0.]\n",
      " [1. 1. 1. 0.]\n",
      " [1. 1. 1. 1.]]\n"
     ]
    }
   ],
   "source": [
    "A = np.array([[1,0,0,0], [-1, 1, 0,0],[0, -1,1,0], [0,0,-1,1]]);\n",
    "print(A)\n",
    "C = la.inv(A)\n",
    "print(C)"
   ]
  },
  {
   "cell_type": "markdown",
   "id": "ea0b8ae9",
   "metadata": {},
   "source": [
    "Calcul de norm, d'inverse via les fonctions respectifs."
   ]
  },
  {
   "cell_type": "markdown",
   "id": "122134b2-b7fe-4174-8537-a258b7a6099e",
   "metadata": {},
   "source": [
    "#### Fonctions\n",
    "8. En python, la d�finition de fonctions est simple. Ex�cutez les scripts ci-dessous:"
   ]
  },
  {
   "cell_type": "code",
   "execution_count": 29,
   "id": "bd07330f-ca69-471b-ac7f-f53174a24e3b",
   "metadata": {},
   "outputs": [
    {
     "name": "stdout",
     "output_type": "stream",
     "text": [
      "-0.04978706836786284\n"
     ]
    }
   ],
   "source": [
    "def myFunction(x):\n",
    "    fx = x * np.sin(np.pi *x) - np.exp(-x)\n",
    "    return fx\n",
    "print(myFunction(3))"
   ]
  },
  {
   "cell_type": "code",
   "execution_count": 30,
   "id": "0db87bc2-01da-42ca-9147-77d149b5547f",
   "metadata": {
    "tags": []
   },
   "outputs": [
    {
     "name": "stdout",
     "output_type": "stream",
     "text": [
      "1.0 3.0\n"
     ]
    }
   ],
   "source": [
    "# Avec 2 valeurs de sortie\n",
    "def myFun2(x):\n",
    "    fx = x**3\n",
    "    fprimx = 3*x**2\n",
    "    return fx, fprimx\n",
    "f1, fprim1 = myFun2(1.0)\n",
    "print(f1, fprim1)"
   ]
  },
  {
   "cell_type": "code",
   "execution_count": 18,
   "id": "8c1a3038-18b4-40ad-bc33-16afe1b5b3ed",
   "metadata": {},
   "outputs": [
    {
     "name": "stdout",
     "output_type": "stream",
     "text": [
      "Help on function fact in module __main__:\n",
      "\n",
      "fact(n)\n",
      "    Fonction factorielle fact(n) = n!\n",
      "\n"
     ]
    },
    {
     "ename": "RecursionError",
     "evalue": "maximum recursion depth exceeded",
     "output_type": "error",
     "traceback": [
      "\u001B[1;31m---------------------------------------------------------------------------\u001B[0m",
      "\u001B[1;31mRecursionError\u001B[0m                            Traceback (most recent call last)",
      "Cell \u001B[1;32mIn[18], line 11\u001B[0m\n\u001B[0;32m      8\u001B[0m         \u001B[38;5;28;01mreturn\u001B[39;00m (n\u001B[38;5;241m*\u001B[39mfact(n\u001B[38;5;241m-\u001B[39m\u001B[38;5;241m1\u001B[39m))\n\u001B[0;32m     10\u001B[0m help(fact)\n\u001B[1;32m---> 11\u001B[0m \u001B[38;5;28mprint\u001B[39m(fact(\u001B[38;5;241m-\u001B[39m\u001B[38;5;241m5\u001B[39m))\n\u001B[0;32m     12\u001B[0m \u001B[38;5;28mprint\u001B[39m(fact(\u001B[38;5;241m2.3\u001B[39m))\n",
      "Cell \u001B[1;32mIn[18], line 8\u001B[0m, in \u001B[0;36mfact\u001B[1;34m(n)\u001B[0m\n\u001B[0;32m      6\u001B[0m     \u001B[38;5;28;01mreturn\u001B[39;00m \u001B[38;5;241m1\u001B[39m\n\u001B[0;32m      7\u001B[0m \u001B[38;5;28;01melse\u001B[39;00m:\n\u001B[1;32m----> 8\u001B[0m     \u001B[38;5;28;01mreturn\u001B[39;00m (n\u001B[38;5;241m*\u001B[39mfact(n\u001B[38;5;241m-\u001B[39m\u001B[38;5;241m1\u001B[39m))\n",
      "Cell \u001B[1;32mIn[18], line 8\u001B[0m, in \u001B[0;36mfact\u001B[1;34m(n)\u001B[0m\n\u001B[0;32m      6\u001B[0m     \u001B[38;5;28;01mreturn\u001B[39;00m \u001B[38;5;241m1\u001B[39m\n\u001B[0;32m      7\u001B[0m \u001B[38;5;28;01melse\u001B[39;00m:\n\u001B[1;32m----> 8\u001B[0m     \u001B[38;5;28;01mreturn\u001B[39;00m (n\u001B[38;5;241m*\u001B[39mfact(n\u001B[38;5;241m-\u001B[39m\u001B[38;5;241m1\u001B[39m))\n",
      "    \u001B[1;31m[... skipping similar frames: fact at line 8 (2970 times)]\u001B[0m\n",
      "Cell \u001B[1;32mIn[18], line 8\u001B[0m, in \u001B[0;36mfact\u001B[1;34m(n)\u001B[0m\n\u001B[0;32m      6\u001B[0m     \u001B[38;5;28;01mreturn\u001B[39;00m \u001B[38;5;241m1\u001B[39m\n\u001B[0;32m      7\u001B[0m \u001B[38;5;28;01melse\u001B[39;00m:\n\u001B[1;32m----> 8\u001B[0m     \u001B[38;5;28;01mreturn\u001B[39;00m (n\u001B[38;5;241m*\u001B[39mfact(n\u001B[38;5;241m-\u001B[39m\u001B[38;5;241m1\u001B[39m))\n",
      "\u001B[1;31mRecursionError\u001B[0m: maximum recursion depth exceeded"
     ]
    }
   ],
   "source": [
    "def fact(n):\n",
    "    \"\"\"Fonction factorielle fact(n) = n!\"\"\"\n",
    "    if not isinstance(n, int):\n",
    "        raise TypeError(\"Argument non entier: \", type(n))\n",
    "    if (n==0):\n",
    "        return 1\n",
    "    else:\n",
    "        return (n*fact(n-1))\n",
    "\n",
    "help(fact)\n",
    "print(fact(-5))\n",
    "print(fact(2.3))"
   ]
  },
  {
   "cell_type": "markdown",
   "id": "c97b9a9b-1274-46e4-84f5-4e65be297a12",
   "metadata": {},
   "source": [
    "#### Graphiques avec Matplotlib\n",
    "9. Le module Matplotlib donne acc�s � de nombreux outils de visualisation graphique. Dans MT09, nous nous limiterons essentiellement � l'utilisation de la commande `plot()`. Ex�cutez le script ci-dessous et faites varier les param�tres."
   ]
  },
  {
   "cell_type": "code",
   "execution_count": 9,
   "id": "2d06d880-58a0-4444-920c-fbd2084aa860",
   "metadata": {
    "tags": []
   },
   "outputs": [
    {
     "data": {
      "text/plain": [
       "Text(0.5, 1.0, 'A nice function')"
      ]
     },
     "execution_count": 9,
     "metadata": {},
     "output_type": "execute_result"
    },
    {
     "data": {
      "image/png": "[encoded data removed]",
      "text/plain": [
       "<Figure size 640x480 with 1 Axes>"
      ]
     },
     "metadata": {},
     "output_type": "display_data"
    }
   ],
   "source": [
    "def myfunc(x):\n",
    "    return (np.sin(x**2) * np.exp(-x/2))\n",
    "\n",
    "import matplotlib.pyplot as plt\n",
    "\n",
    "Npt = 200\n",
    "x = np.linspace(0, 3*np.pi, Npt);\n",
    "plt.plot(x, myfunc(x), color='darkgreen', marker='^', linestyle='-',\n",
    "         linewidth=2, markersize=4)\n",
    "plt.grid()\n",
    "plt.xlabel('x'); plt.ylabel('y=f(x)'); plt.title('A nice function')"
   ]
  },
  {
   "cell_type": "markdown",
   "id": "5dc8d17e-f26e-4633-b6f7-dd199e12352f",
   "metadata": {},
   "source": [
    "### Exercice 1\n",
    "On d�finit la fonction\n",
    "$$\n",
    "f(x) = 2\\left( \\sqrt{x^2+1}-x \\right).\n",
    "$$\n",
    "On pose\n",
    "$$\n",
    "g(u) = f(1/x).\n",
    "$$\n",
    "crire le d�veloppement limit� � l'ordre 1 de $g(u)$ au voisinage de $0^+$. Comment se comment $g$ au voisinage de $0^+$ et $f$ au voisinage de $+\\infty$ ?\n",
    "\n",
    "On consid�re le vecteur\n",
    "$$\n",
    "x = [10^0\\ 10^1\\ 10^2\\ 10^3\\ ...\\ 10^{16}]\n",
    "$$\n",
    "Dans un graphique, tracer les diff�rents points $(i, f(x_i))$, $i=0,...,16$. \n",
    "\n",
    "Affichez aussi le tableau des $f(x_i)$ avec `print()`. Le r�sultat vous para�t-il normal ?"
   ]
  },
  {
   "cell_type": "code",
   "execution_count": 88,
   "id": "b445073b-a213-495d-943e-0fc005252617",
   "metadata": {
    "tags": []
   },
   "outputs": [
    {
     "name": "stdout",
     "output_type": "stream",
     "text": [
      "[1.e+00 1.e+01 1.e+02 1.e+03 1.e+04 1.e+05 1.e+06 1.e+07 1.e+08 1.e+09\n",
      " 1.e+10 1.e+11 1.e+12 1.e+13 1.e+14 1.e+15 1.e+16]\n",
      "[8.28427125e-01 9.97512422e-02 9.99975001e-03 9.99999750e-04\n",
      " 1.00000001e-04 9.99998883e-06 1.00000761e-06 1.00582838e-07\n",
      " 0.00000000e+00 0.00000000e+00 0.00000000e+00 0.00000000e+00\n",
      " 0.00000000e+00 0.00000000e+00 0.00000000e+00 0.00000000e+00\n",
      " 0.00000000e+00]\n"
     ]
    },
    {
     "data": {
      "image/png": "[encoded data removed]",
      "text/plain": [
       "<Figure size 640x480 with 1 Axes>"
      ]
     },
     "metadata": {},
     "output_type": "display_data"
    }
   ],
   "source": [
    "import matplotlib.pyplot as plt\n",
    "\n",
    "def f(x):\n",
    "    return (2*(np.sqrt(x**2+1)-x))\n",
    "I = np.arange(0, 17, dtype=np.float64)\n",
    "x = pow(10.0, I);\n",
    "print(x)\n",
    "plt.plot(I, f(x), color='blue', marker='o'); plt.grid()\n",
    "print(f(x))"
   ]
  },
  {
   "cell_type": "markdown",
   "id": "cc667a0b",
   "metadata": {},
   "source": [
    "On constate qu'au bout d'un moment les valeurs de f(x) sont littéralement 0 alors que en réalité $ \\sqrt{x^2 + 1} - x !=  0 $ la cela du à un phénomène de catastrophe cancellation qui fait que\" lorsque l'on addittionne une très petite valeur avec une grande valeur, grande valeur + petite valeur = grande valeur. Ainsi on perd tous les chiffres significatifs."
   ]
  },
  {
   "cell_type": "markdown",
   "id": "aa1b65c4-cf2d-42c2-b2b8-a5bc5ce78238",
   "metadata": {},
   "source": [
    "En multipliant par la quantit� conjugu�e, on remarque que la fonction $f$ est �quivalente � la fonction\n",
    "$$\n",
    "g(x) = \\frac{2}{\\sqrt{x^2+1}+x} \\quad (=f(x)).\n",
    "$$\n",
    "La fonction $f$ est �quivalente � quelle fonction simple quand $x$ est grand ?\n",
    "Affichez le tableau des $g(x_i)$ avec `print()`. Que remarquez-vous ?\n",
    "Dans un autre graphique, tracer les diff�rents points $(x_i, g(x_i))$, $i=0,...,16$ en �chelle $\\log$\n",
    "(on utilisera pour cela la fonction `plt.loglog()`)."
   ]
  },
  {
   "cell_type": "code",
   "execution_count": 85,
   "id": "e1a104f3-392c-403e-b85c-1a6ad471112f",
   "metadata": {
    "tags": []
   },
   "outputs": [
    {
     "name": "stdout",
     "output_type": "stream",
     "text": [
      "[8.28427125e-01 9.97512422e-02 9.99975001e-03 9.99999750e-04\n",
      " 1.00000001e-04 9.99998883e-06 1.00000761e-06 1.00582838e-07\n",
      " 0.00000000e+00 0.00000000e+00 0.00000000e+00 0.00000000e+00\n",
      " 0.00000000e+00 0.00000000e+00 0.00000000e+00 0.00000000e+00\n",
      " 0.00000000e+00] \n",
      " [8.28427125e-01 9.97512422e-02 9.99975001e-03 9.99999750e-04\n",
      " 9.99999997e-05 1.00000000e-05 1.00000000e-06 1.00000000e-07\n",
      " 1.00000000e-08 1.00000000e-09 1.00000000e-10 1.00000000e-11\n",
      " 1.00000000e-12 1.00000000e-13 1.00000000e-14 1.00000000e-15\n",
      " 1.00000000e-16]\n"
     ]
    },
    {
     "data": {
      "image/png": "[encoded data removed]",
      "text/plain": [
       "<Figure size 640x480 with 1 Axes>"
      ]
     },
     "metadata": {},
     "output_type": "display_data"
    }
   ],
   "source": [
    "def g(x):\n",
    "    return (2/(np.sqrt(x**2+1)+x))\n",
    "plt.loglog(x, g(x), color='blue', marker='o'); plt.grid()\n",
    "plt.xlabel('x'); plt.ylabel('g(x)');\n",
    "print(f(x), '\\n', g(x))"
   ]
  },
  {
   "cell_type": "markdown",
   "id": "5d35ea4b-30f6-41d9-83cf-71a138443f02",
   "metadata": {},
   "source": [
    "�x�cutez les lignes suivantes. Qu'en concluez-vous ?"
   ]
  },
  {
   "cell_type": "code",
   "execution_count": 87,
   "id": "ec417581-890a-4d4c-83cf-b1edc5e95fc3",
   "metadata": {},
   "outputs": [
    {
     "name": "stdout",
     "output_type": "stream",
     "text": [
      "[0.8284271  0.09975243 0.00999451 0.00097656 0.         0.\n",
      " 0.         0.         0.         0.         0.         0.\n",
      " 0.         0.         0.         0.         0.        ]\n",
      "[8.28427125e-01 9.97512422e-02 9.99975001e-03 9.99999750e-04\n",
      " 1.00000001e-04 9.99998883e-06 1.00000761e-06 1.00582838e-07\n",
      " 0.00000000e+00 0.00000000e+00 0.00000000e+00 0.00000000e+00\n",
      " 0.00000000e+00 0.00000000e+00 0.00000000e+00 0.00000000e+00\n",
      " 0.00000000e+00]\n",
      "[8.28427125e-01 9.97512422e-02 9.99975001e-03 9.99999750e-04\n",
      " 9.99999997e-05 1.00000000e-05 1.00000000e-06 1.00000000e-07\n",
      " 1.00000000e-08 1.00000000e-09 1.00000000e-10 1.00000000e-11\n",
      " 1.00000000e-12 1.00000000e-13 1.00000000e-14 1.00000000e-15\n",
      " 1.00000000e-16]\n"
     ]
    }
   ],
   "source": [
    "xfloat32 = np.exp(I*np.log(10), dtype=np.float32)\n",
    "print(f(xfloat32))\n",
    "print(f(x))\n",
    "print(g(x))"
   ]
  },
  {
   "cell_type": "markdown",
   "id": "f89f67c4",
   "metadata": {},
   "source": [
    "Comme ici on repose sur une addition et non une soustraction le phénonème de catastrophe cancellation ne s'applique pas et on préserve les chiffres significatifs."
   ]
  },
  {
   "cell_type": "markdown",
   "id": "72e66209-0aec-4874-8716-cfbea47d9c98",
   "metadata": {},
   "source": [
    "### Exercice 2\n",
    "On peut approcher la valeur de la d�riv�e d''une fonction en un point $x_0$ \n",
    "par une formule dite de diff�rences finies (ici d'ordre 1):\n",
    "\n",
    "$$\n",
    "\\Delta_h(x_0) = \\frac{f(x_0+h)-f(x_0)}{h}\\quad (\\approx f'(x_0))\n",
    "$$\n",
    "pour un pas $h\\neq 0$ assez petit. Pour $f(x)=\\sqrt{x}$ et $x_0=1$, on a $f'(x_0)=\\frac{1}{2}$.\n",
    "En python, on consid�re le vecteur de pas $h=(h_i)_i$ d�fini par\n",
    "\n",
    "$$\n",
    "h = [10^0\\ 10^{-1}\\ 10^{-2}\\ 10^{-3}\\ ...\\ 10^{-19}\\ 10^{-20}]\n",
    "$$\n",
    "et le vecteur d'erreur d'approximation $e_h=(e_{h,i})_i$ o�\n",
    "\n",
    "$$\n",
    "e_{h,i}(x_0) = |\\Delta_{h_i}(x_0) - f'(x_0)|.\n",
    "$$\n",
    "\n",
    "Tracez un graphique qui trace les points $(h_i, e_{h_i}(x_0)$ en �chelle log. Que constatez-vous ? Interpr�tez."
   ]
  },
  {
   "cell_type": "code",
   "execution_count": 257,
   "id": "4c83e48c-b2dd-4f1b-9252-282601b1dbb3",
   "metadata": {},
   "outputs": [
    {
     "name": "stdout",
     "output_type": "stream",
     "text": [
      "[1.e+00 1.e-01 1.e-02 1.e-03 1.e-04 1.e-05 1.e-06 1.e-07 1.e-08 1.e-09\n",
      " 1.e-10 1.e-11 1.e-12 1.e-13 1.e-14 1.e-15 1.e-16 1.e-17 1.e-18 1.e-19\n",
      " 1.e-20]\n"
     ]
    },
    {
     "data": {
      "text/plain": [
       "Text(0.5, 1.0, \"Influence du pas $h$ sur l'erreur\")"
      ]
     },
     "execution_count": 257,
     "metadata": {},
     "output_type": "execute_result"
    },
    {
     "data": {
      "image/png": "[encoded data removed]",
      "text/plain": [
       "<Figure size 640x480 with 1 Axes>"
      ]
     },
     "metadata": {},
     "output_type": "display_data"
    }
   ],
   "source": [
    "def f(x):\n",
    "    return (np.sqrt(x))\n",
    "x0 = 1\n",
    "I = np.arange(0, 21, dtype=np.float64)\n",
    "h = pow(10, -I)\n",
    "print(h)\n",
    "deltah = abs( (f(x0+h)-f(x0))/h - 0.5)\n",
    "plt.loglog(h, deltah, 'o-r')\n",
    "plt.grid()\n",
    "plt.xlabel('h'); plt.ylabel('$e_h$')\n",
    "plt.title(\"Influence du pas $h$ sur l'erreur\")"
   ]
  },
  {
   "cell_type": "code",
   "execution_count": 263,
   "id": "503a1184-6c7f-4ad9-b08f-0f70a1cc336b",
   "metadata": {},
   "outputs": [
    {
     "name": "stdout",
     "output_type": "stream",
     "text": [
      "(1+1j)\n"
     ]
    }
   ],
   "source": [
    "# Rappel : definition d'un complexe\n",
    "z = 1+1j\n",
    "print(z)"
   ]
  },
  {
   "cell_type": "code",
   "execution_count": 265,
   "id": "b430f54b-8f4d-4584-87f8-2b6a55caff52",
   "metadata": {},
   "outputs": [
    {
     "name": "stdout",
     "output_type": "stream",
     "text": [
      "1.0 1.0\n"
     ]
    }
   ],
   "source": [
    "print(z.real, z.imag)"
   ]
  },
  {
   "cell_type": "code",
   "execution_count": 285,
   "id": "857d56bf-03c7-4087-89c3-aa2a5e17de52",
   "metadata": {},
   "outputs": [
    {
     "name": "stdout",
     "output_type": "stream",
     "text": [
      "x =  1.0\n"
     ]
    },
    {
     "data": {
      "text/latex": [
       "$\\displaystyle \\frac{d}{d x} f{\\left(x \\right)}$"
      ],
      "text/plain": [
       "<IPython.core.display.Math object>"
      ]
     },
     "metadata": {},
     "output_type": "display_data"
    },
    {
     "name": "stdout",
     "output_type": "stream",
     "text": [
      " =  0.5\n",
      "erreur =  0.0\n"
     ]
    }
   ],
   "source": [
    "import numpy as np\n",
    "\n",
    "# Formule dite du 'pas complexe'\n",
    "def derivative(f, x):\n",
    "    h = 2.0**(-52) # float64\n",
    "    cstep = complex(0,h)\n",
    "    z = f(x + cstep) / h\n",
    "    return z.imag\n",
    "\n",
    "from IPython.display import display, Math\n",
    "import sympy as sp\n",
    "x = sp.Symbol('x')\n",
    "fsymb = sp.Function('f')(x)\n",
    "spderivative = sp.Derivative(fsymb, x)\n",
    "latex_derivative = sp.latex(spderivative)\n",
    "\n",
    "x0 = np.float64(1.0)\n",
    "fprimex0 = derivative(f, x0)\n",
    "print('x = ', x0)\n",
    "display(Math(latex_derivative))\n",
    "print(\" = \", fprimex0 )\n",
    "print(\"erreur = \", fprimex0 - 0.5 )\n",
    "# Magique non ? :)"
   ]
  },
  {
   "cell_type": "code",
   "execution_count": 287,
   "id": "130cead5-686c-4ba8-88fe-e44b11d772d8",
   "metadata": {},
   "outputs": [
    {
     "name": "stdout",
     "output_type": "stream",
     "text": [
      "0.5\n"
     ]
    }
   ],
   "source": [
    "print(derivative(f, x0))"
   ]
  },
  {
   "cell_type": "code",
   "execution_count": null,
   "id": "7eb4f2aa-2203-4f8f-853b-9b7903fb4e8c",
   "metadata": {},
   "outputs": [],
   "source": []
  }
 ],
 "metadata": {
  "kernelspec": {
   "display_name": "Python 3 (ipykernel)",
   "language": "python",
   "name": "python3"
  },
  "language_info": {
   "codemirror_mode": {
    "name": "ipython",
    "version": 3
   },
   "file_extension": ".py",
   "mimetype": "text/x-python",
   "name": "python",
   "nbconvert_exporter": "python",
   "pygments_lexer": "ipython3",
   "version": "3.10.9"
  },
  "toc-autonumbering": false,
  "toc-showcode": true,
  "toc-showmarkdowntxt": false
 },
 "nbformat": 4,
 "nbformat_minor": 5
}
